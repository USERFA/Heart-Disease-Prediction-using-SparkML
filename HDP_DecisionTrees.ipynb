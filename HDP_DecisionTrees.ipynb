{
 "cells": [
  {
   "cell_type": "code",
   "execution_count": 18,
   "metadata": {},
   "outputs": [
    {
     "name": "stdout",
     "output_type": "stream",
     "text": [
      "env: SPARK_LOCAL_HOSTNAME=localhost\n"
     ]
    }
   ],
   "source": [
    "%env SPARK_LOCAL_HOSTNAME=localhost\n",
    "import findspark\n",
    "findspark.init(r'C:\\Users\\Downloads\\spark-3.1.2-bin-hadoop3.2')\n",
    "from pyspark import SparkContext\n",
    "from pyspark import SparkConf\n",
    "from pyspark.sql.context import SQLContext\n",
    "# Starting the spark session\n",
    "spark = SparkSession.builder.appName(\"HeartPrediction\").config(\"spark.driver.host\", \"localhost\").getOrCreate()\n",
    "\n",
    "# load a csv file and converting it to a dataframe\n",
    "data = spark.read.format('com.databricks.spark.csv').option(\"delimiter\", \";\").option(\"header\", True).load(r'C:\\Users\\Desktop\\heartdata.csv')"
   ]
  },
  {
   "cell_type": "code",
   "execution_count": 19,
   "metadata": {},
   "outputs": [
    {
     "data": {
      "text/html": [
       "<div>\n",
       "<style scoped>\n",
       "    .dataframe tbody tr th:only-of-type {\n",
       "        vertical-align: middle;\n",
       "    }\n",
       "\n",
       "    .dataframe tbody tr th {\n",
       "        vertical-align: top;\n",
       "    }\n",
       "\n",
       "    .dataframe thead th {\n",
       "        text-align: right;\n",
       "    }\n",
       "</style>\n",
       "<table border=\"1\" class=\"dataframe\">\n",
       "  <thead>\n",
       "    <tr style=\"text-align: right;\">\n",
       "      <th></th>\n",
       "      <th>0</th>\n",
       "      <th>1</th>\n",
       "      <th>2</th>\n",
       "      <th>3</th>\n",
       "      <th>4</th>\n",
       "    </tr>\n",
       "  </thead>\n",
       "  <tbody>\n",
       "    <tr>\n",
       "      <th>Age</th>\n",
       "      <td>40</td>\n",
       "      <td>49</td>\n",
       "      <td>37</td>\n",
       "      <td>48</td>\n",
       "      <td>54</td>\n",
       "    </tr>\n",
       "    <tr>\n",
       "      <th>Sex</th>\n",
       "      <td>M</td>\n",
       "      <td>F</td>\n",
       "      <td>M</td>\n",
       "      <td>F</td>\n",
       "      <td>M</td>\n",
       "    </tr>\n",
       "    <tr>\n",
       "      <th>ChestPainType</th>\n",
       "      <td>ATA</td>\n",
       "      <td>NAP</td>\n",
       "      <td>ATA</td>\n",
       "      <td>ASY</td>\n",
       "      <td>NAP</td>\n",
       "    </tr>\n",
       "    <tr>\n",
       "      <th>RestingBP</th>\n",
       "      <td>140</td>\n",
       "      <td>160</td>\n",
       "      <td>130</td>\n",
       "      <td>138</td>\n",
       "      <td>150</td>\n",
       "    </tr>\n",
       "    <tr>\n",
       "      <th>Cholesterol</th>\n",
       "      <td>289</td>\n",
       "      <td>180</td>\n",
       "      <td>283</td>\n",
       "      <td>214</td>\n",
       "      <td>195</td>\n",
       "    </tr>\n",
       "    <tr>\n",
       "      <th>FastingBS</th>\n",
       "      <td>0</td>\n",
       "      <td>0</td>\n",
       "      <td>0</td>\n",
       "      <td>0</td>\n",
       "      <td>0</td>\n",
       "    </tr>\n",
       "    <tr>\n",
       "      <th>RestingECG</th>\n",
       "      <td>Normal</td>\n",
       "      <td>Normal</td>\n",
       "      <td>ST</td>\n",
       "      <td>Normal</td>\n",
       "      <td>Normal</td>\n",
       "    </tr>\n",
       "    <tr>\n",
       "      <th>MaxHR</th>\n",
       "      <td>172</td>\n",
       "      <td>156</td>\n",
       "      <td>98</td>\n",
       "      <td>108</td>\n",
       "      <td>122</td>\n",
       "    </tr>\n",
       "    <tr>\n",
       "      <th>ExerciseAngina</th>\n",
       "      <td>N</td>\n",
       "      <td>N</td>\n",
       "      <td>N</td>\n",
       "      <td>Y</td>\n",
       "      <td>N</td>\n",
       "    </tr>\n",
       "    <tr>\n",
       "      <th>Oldpeak</th>\n",
       "      <td>0</td>\n",
       "      <td>1</td>\n",
       "      <td>0</td>\n",
       "      <td>1.5</td>\n",
       "      <td>0</td>\n",
       "    </tr>\n",
       "    <tr>\n",
       "      <th>ST_Slope</th>\n",
       "      <td>Up</td>\n",
       "      <td>Flat</td>\n",
       "      <td>Up</td>\n",
       "      <td>Flat</td>\n",
       "      <td>Up</td>\n",
       "    </tr>\n",
       "    <tr>\n",
       "      <th>HeartDisease</th>\n",
       "      <td>0</td>\n",
       "      <td>1</td>\n",
       "      <td>0</td>\n",
       "      <td>1</td>\n",
       "      <td>0</td>\n",
       "    </tr>\n",
       "  </tbody>\n",
       "</table>\n",
       "</div>"
      ],
      "text/plain": [
       "                     0       1    2       3       4\n",
       "Age                 40      49   37      48      54\n",
       "Sex                  M       F    M       F       M\n",
       "ChestPainType      ATA     NAP  ATA     ASY     NAP\n",
       "RestingBP          140     160  130     138     150\n",
       "Cholesterol        289     180  283     214     195\n",
       "FastingBS            0       0    0       0       0\n",
       "RestingECG      Normal  Normal   ST  Normal  Normal\n",
       "MaxHR              172     156   98     108     122\n",
       "ExerciseAngina       N       N    N       Y       N\n",
       "Oldpeak              0       1    0     1.5       0\n",
       "ST_Slope            Up    Flat   Up    Flat      Up\n",
       "HeartDisease         0       1    0       1       0"
      ]
     },
     "execution_count": 19,
     "metadata": {},
     "output_type": "execute_result"
    }
   ],
   "source": [
    "# reading the values of the first 5 columns\n",
    "import pandas as pd\n",
    "pd.DataFrame(data.take(5), columns=data.columns).transpose()"
   ]
  },
  {
   "cell_type": "code",
   "execution_count": 20,
   "metadata": {},
   "outputs": [
    {
     "name": "stdout",
     "output_type": "stream",
     "text": [
      "root\n",
      " |-- Age: string (nullable = true)\n",
      " |-- Sex: string (nullable = true)\n",
      " |-- ChestPainType: string (nullable = true)\n",
      " |-- RestingBP: string (nullable = true)\n",
      " |-- Cholesterol: string (nullable = true)\n",
      " |-- FastingBS: string (nullable = true)\n",
      " |-- RestingECG: string (nullable = true)\n",
      " |-- MaxHR: string (nullable = true)\n",
      " |-- ExerciseAngina: string (nullable = true)\n",
      " |-- Oldpeak: string (nullable = true)\n",
      " |-- ST_Slope: string (nullable = true)\n",
      " |-- HeartDisease: string (nullable = true)\n",
      "\n",
      "None\n"
     ]
    }
   ],
   "source": [
    "print(data.printSchema()) "
   ]
  },
  {
   "cell_type": "code",
   "execution_count": 21,
   "metadata": {},
   "outputs": [],
   "source": [
    "# creating the label and features columns that will be used by the decision trees model\n",
    "from pyspark.ml.feature import StringIndexer, VectorIndexer\n",
    "from pyspark.ml.feature import VectorAssembler\n",
    "labelIndexer = StringIndexer(inputCol='HeartDisease', outputCol=\"label\").fit(data)\n",
    "features = data.columns[1:11]"
   ]
  },
  {
   "cell_type": "code",
   "execution_count": 22,
   "metadata": {},
   "outputs": [
    {
     "data": {
      "text/plain": [
       "918"
      ]
     },
     "execution_count": 22,
     "metadata": {},
     "output_type": "execute_result"
    }
   ],
   "source": [
    "# Number of the dataset's instances\n",
    "data.count()"
   ]
  },
  {
   "cell_type": "code",
   "execution_count": 23,
   "metadata": {},
   "outputs": [
    {
     "data": {
      "text/plain": [
       "[('Age', 'string'),\n",
       " ('Sex', 'string'),\n",
       " ('ChestPainType', 'string'),\n",
       " ('RestingBP', 'string'),\n",
       " ('Cholesterol', 'string'),\n",
       " ('FastingBS', 'string'),\n",
       " ('RestingECG', 'string'),\n",
       " ('MaxHR', 'string'),\n",
       " ('ExerciseAngina', 'string'),\n",
       " ('Oldpeak', 'string'),\n",
       " ('ST_Slope', 'string'),\n",
       " ('HeartDisease', 'string')]"
      ]
     },
     "execution_count": 23,
     "metadata": {},
     "output_type": "execute_result"
    }
   ],
   "source": [
    "data.dtypes"
   ]
  },
  {
   "cell_type": "code",
   "execution_count": 8,
   "metadata": {},
   "outputs": [
    {
     "data": {
      "text/html": [
       "<div>\n",
       "<style scoped>\n",
       "    .dataframe tbody tr th:only-of-type {\n",
       "        vertical-align: middle;\n",
       "    }\n",
       "\n",
       "    .dataframe tbody tr th {\n",
       "        vertical-align: top;\n",
       "    }\n",
       "\n",
       "    .dataframe thead th {\n",
       "        text-align: right;\n",
       "    }\n",
       "</style>\n",
       "<table border=\"1\" class=\"dataframe\">\n",
       "  <thead>\n",
       "    <tr style=\"text-align: right;\">\n",
       "      <th></th>\n",
       "      <th>summary</th>\n",
       "      <th>Age</th>\n",
       "      <th>Sex</th>\n",
       "      <th>ChestPainType</th>\n",
       "      <th>RestingBP</th>\n",
       "      <th>Cholesterol</th>\n",
       "      <th>FastingBS</th>\n",
       "      <th>RestingECG</th>\n",
       "      <th>MaxHR</th>\n",
       "      <th>ExerciseAngina</th>\n",
       "      <th>Oldpeak</th>\n",
       "      <th>ST_Slope</th>\n",
       "      <th>HeartDisease</th>\n",
       "    </tr>\n",
       "  </thead>\n",
       "  <tbody>\n",
       "    <tr>\n",
       "      <th>0</th>\n",
       "      <td>count</td>\n",
       "      <td>918</td>\n",
       "      <td>918</td>\n",
       "      <td>918</td>\n",
       "      <td>918</td>\n",
       "      <td>918</td>\n",
       "      <td>918</td>\n",
       "      <td>918</td>\n",
       "      <td>918</td>\n",
       "      <td>918</td>\n",
       "      <td>918</td>\n",
       "      <td>918</td>\n",
       "      <td>918</td>\n",
       "    </tr>\n",
       "    <tr>\n",
       "      <th>1</th>\n",
       "      <td>mean</td>\n",
       "      <td>53.510893246187365</td>\n",
       "      <td>None</td>\n",
       "      <td>None</td>\n",
       "      <td>132.39651416122004</td>\n",
       "      <td>198.7995642701525</td>\n",
       "      <td>0.23311546840958605</td>\n",
       "      <td>None</td>\n",
       "      <td>136.80936819172112</td>\n",
       "      <td>None</td>\n",
       "      <td>0.8873638344226581</td>\n",
       "      <td>None</td>\n",
       "      <td>0.5533769063180828</td>\n",
       "    </tr>\n",
       "    <tr>\n",
       "      <th>2</th>\n",
       "      <td>stddev</td>\n",
       "      <td>9.43261650673202</td>\n",
       "      <td>None</td>\n",
       "      <td>None</td>\n",
       "      <td>18.514154119907808</td>\n",
       "      <td>109.38414455220345</td>\n",
       "      <td>0.42304562473930296</td>\n",
       "      <td>None</td>\n",
       "      <td>25.46033413825029</td>\n",
       "      <td>None</td>\n",
       "      <td>1.0665701510493264</td>\n",
       "      <td>None</td>\n",
       "      <td>0.49741373828459706</td>\n",
       "    </tr>\n",
       "    <tr>\n",
       "      <th>3</th>\n",
       "      <td>min</td>\n",
       "      <td>28</td>\n",
       "      <td>F</td>\n",
       "      <td>ASY</td>\n",
       "      <td>0</td>\n",
       "      <td>0</td>\n",
       "      <td>0</td>\n",
       "      <td>LVH</td>\n",
       "      <td>100</td>\n",
       "      <td>N</td>\n",
       "      <td>-0.1</td>\n",
       "      <td>Down</td>\n",
       "      <td>0</td>\n",
       "    </tr>\n",
       "    <tr>\n",
       "      <th>4</th>\n",
       "      <td>max</td>\n",
       "      <td>77</td>\n",
       "      <td>M</td>\n",
       "      <td>TA</td>\n",
       "      <td>98</td>\n",
       "      <td>85</td>\n",
       "      <td>1</td>\n",
       "      <td>ST</td>\n",
       "      <td>99</td>\n",
       "      <td>Y</td>\n",
       "      <td>6.2</td>\n",
       "      <td>Up</td>\n",
       "      <td>1</td>\n",
       "    </tr>\n",
       "  </tbody>\n",
       "</table>\n",
       "</div>"
      ],
      "text/plain": [
       "  summary                 Age   Sex ChestPainType           RestingBP  \\\n",
       "0   count                 918   918           918                 918   \n",
       "1    mean  53.510893246187365  None          None  132.39651416122004   \n",
       "2  stddev    9.43261650673202  None          None  18.514154119907808   \n",
       "3     min                  28     F           ASY                   0   \n",
       "4     max                  77     M            TA                  98   \n",
       "\n",
       "          Cholesterol            FastingBS RestingECG               MaxHR  \\\n",
       "0                 918                  918        918                 918   \n",
       "1   198.7995642701525  0.23311546840958605       None  136.80936819172112   \n",
       "2  109.38414455220345  0.42304562473930296       None   25.46033413825029   \n",
       "3                   0                    0        LVH                 100   \n",
       "4                  85                    1         ST                  99   \n",
       "\n",
       "  ExerciseAngina             Oldpeak ST_Slope         HeartDisease  \n",
       "0            918                 918      918                  918  \n",
       "1           None  0.8873638344226581     None   0.5533769063180828  \n",
       "2           None  1.0665701510493264     None  0.49741373828459706  \n",
       "3              N                -0.1     Down                    0  \n",
       "4              Y                 6.2       Up                    1  "
      ]
     },
     "execution_count": 8,
     "metadata": {},
     "output_type": "execute_result"
    }
   ],
   "source": [
    "# dataset summary\n",
    "data.describe().toPandas()"
   ]
  },
  {
   "cell_type": "code",
   "execution_count": 25,
   "metadata": {},
   "outputs": [
    {
     "name": "stdout",
     "output_type": "stream",
     "text": [
      "+----+---+-------------+---------+-----------+---------+----------+-----+--------------+-------+--------+------------+\n",
      "| Age|Sex|ChestPainType|RestingBP|Cholesterol|FastingBS|RestingECG|MaxHR|ExerciseAngina|Oldpeak|ST_Slope|HeartDisease|\n",
      "+----+---+-------------+---------+-----------+---------+----------+-----+--------------+-------+--------+------------+\n",
      "|40.0|  M|          ATA|    140.0|      289.0|      0.0|    Normal|172.0|             N|    0.0|      Up|           0|\n",
      "|49.0|  F|          NAP|    160.0|      180.0|      0.0|    Normal|156.0|             N|    1.0|    Flat|           1|\n",
      "|37.0|  M|          ATA|    130.0|      283.0|      0.0|        ST| 98.0|             N|    0.0|      Up|           0|\n",
      "|48.0|  F|          ASY|    138.0|      214.0|      0.0|    Normal|108.0|             Y|    1.5|    Flat|           1|\n",
      "|54.0|  M|          NAP|    150.0|      195.0|      0.0|    Normal|122.0|             N|    0.0|      Up|           0|\n",
      "|39.0|  M|          NAP|    120.0|      339.0|      0.0|    Normal|170.0|             N|    0.0|      Up|           0|\n",
      "|45.0|  F|          ATA|    130.0|      237.0|      0.0|    Normal|170.0|             N|    0.0|      Up|           0|\n",
      "|54.0|  M|          ATA|    110.0|      208.0|      0.0|    Normal|142.0|             N|    0.0|      Up|           0|\n",
      "|37.0|  M|          ASY|    140.0|      207.0|      0.0|    Normal|130.0|             Y|    1.5|    Flat|           1|\n",
      "|48.0|  F|          ATA|    120.0|      284.0|      0.0|    Normal|120.0|             N|    0.0|      Up|           0|\n",
      "|37.0|  F|          NAP|    130.0|      211.0|      0.0|    Normal|142.0|             N|    0.0|      Up|           0|\n",
      "|58.0|  M|          ATA|    136.0|      164.0|      0.0|        ST| 99.0|             Y|    2.0|    Flat|           1|\n",
      "|39.0|  M|          ATA|    120.0|      204.0|      0.0|    Normal|145.0|             N|    0.0|      Up|           0|\n",
      "|49.0|  M|          ASY|    140.0|      234.0|      0.0|    Normal|140.0|             Y|    1.0|    Flat|           1|\n",
      "|42.0|  F|          NAP|    115.0|      211.0|      0.0|        ST|137.0|             N|    0.0|      Up|           0|\n",
      "|54.0|  F|          ATA|    120.0|      273.0|      0.0|    Normal|150.0|             N|    1.5|    Flat|           0|\n",
      "|38.0|  M|          ASY|    110.0|      196.0|      0.0|    Normal|166.0|             N|    0.0|    Flat|           1|\n",
      "|43.0|  F|          ATA|    120.0|      201.0|      0.0|    Normal|165.0|             N|    0.0|      Up|           0|\n",
      "|60.0|  M|          ASY|    100.0|      248.0|      0.0|    Normal|125.0|             N|    1.0|    Flat|           1|\n",
      "|36.0|  M|          ATA|    120.0|      267.0|      0.0|    Normal|160.0|             N|    3.0|    Flat|           1|\n",
      "+----+---+-------------+---------+-----------+---------+----------+-----+--------------+-------+--------+------------+\n",
      "only showing top 20 rows\n",
      "\n"
     ]
    }
   ],
   "source": [
    "# Data pre-processing phase\n",
    "# casting the strings to numerical values\n",
    "from pyspark.sql.functions import col\n",
    "dataset = data.select(col('Age').cast('float'),col('Sex'),col('ChestPainType'),\n",
    "                    col('RestingBP').cast('float'),col('Cholesterol').cast('float'),\n",
    "                    col('FastingBS').cast('float'),col('RestingECG'),\n",
    "                    col('MaxHR').cast('float'),col('ExerciseAngina'),\n",
    "                    col('Oldpeak').cast('float'),col('ST_Slope')\n",
    "                    ,col('HeartDisease')\n",
    "                        )\n",
    "dataset.show()"
   ]
  },
  {
   "cell_type": "code",
   "execution_count": 26,
   "metadata": {},
   "outputs": [
    {
     "name": "stdout",
     "output_type": "stream",
     "text": [
      "+---+---+-------------+---------+-----------+---------+----------+-----+--------------+-------+--------+------------+\n",
      "|Age|Sex|ChestPainType|RestingBP|Cholesterol|FastingBS|RestingECG|MaxHR|ExerciseAngina|Oldpeak|ST_Slope|HeartDisease|\n",
      "+---+---+-------------+---------+-----------+---------+----------+-----+--------------+-------+--------+------------+\n",
      "|  0|  0|            0|        0|          0|        0|         0|    0|             0|      0|       0|           0|\n",
      "+---+---+-------------+---------+-----------+---------+----------+-----+--------------+-------+--------+------------+\n",
      "\n"
     ]
    }
   ],
   "source": [
    "# checking whether the dataframe has null values\n",
    "from pyspark.sql.functions import isnull, when, count, col\n",
    "dataset.select([count(when(isnull(c), c)).alias(c) for c in dataset.columns]).show()"
   ]
  },
  {
   "cell_type": "code",
   "execution_count": 27,
   "metadata": {},
   "outputs": [
    {
     "data": {
      "text/plain": [
       "[('Age', 'float'),\n",
       " ('Sex', 'string'),\n",
       " ('ChestPainType', 'string'),\n",
       " ('RestingBP', 'float'),\n",
       " ('Cholesterol', 'float'),\n",
       " ('FastingBS', 'float'),\n",
       " ('RestingECG', 'string'),\n",
       " ('MaxHR', 'float'),\n",
       " ('ExerciseAngina', 'string'),\n",
       " ('Oldpeak', 'float'),\n",
       " ('ST_Slope', 'string'),\n",
       " ('HeartDisease', 'string')]"
      ]
     },
     "execution_count": 27,
     "metadata": {},
     "output_type": "execute_result"
    }
   ],
   "source": [
    "dataset.dtypes"
   ]
  },
  {
   "cell_type": "code",
   "execution_count": 35,
   "metadata": {},
   "outputs": [
    {
     "name": "stdout",
     "output_type": "stream",
     "text": [
      "+----+---+---------+-----------+---------+-----+-------+-----+----------+-----------+---------+--------+\n",
      "| Age|sex|RestingBP|Cholesterol|FastingBS|MaxHR|Oldpeak|label|Chest_Pain|Resting_ECG|Ex_Angina|Slope_St|\n",
      "+----+---+---------+-----------+---------+-----+-------+-----+----------+-----------+---------+--------+\n",
      "|40.0|0.0|    140.0|      289.0|      0.0|172.0|    0.0|  1.0|       2.0|        0.0|      0.0|     1.0|\n",
      "|49.0|1.0|    160.0|      180.0|      0.0|156.0|    1.0|  0.0|       1.0|        0.0|      0.0|     0.0|\n",
      "|37.0|0.0|    130.0|      283.0|      0.0| 98.0|    0.0|  1.0|       2.0|        2.0|      0.0|     1.0|\n",
      "|48.0|1.0|    138.0|      214.0|      0.0|108.0|    1.5|  0.0|       0.0|        0.0|      1.0|     0.0|\n",
      "|54.0|0.0|    150.0|      195.0|      0.0|122.0|    0.0|  1.0|       1.0|        0.0|      0.0|     1.0|\n",
      "|39.0|0.0|    120.0|      339.0|      0.0|170.0|    0.0|  1.0|       1.0|        0.0|      0.0|     1.0|\n",
      "|45.0|1.0|    130.0|      237.0|      0.0|170.0|    0.0|  1.0|       2.0|        0.0|      0.0|     1.0|\n",
      "|54.0|0.0|    110.0|      208.0|      0.0|142.0|    0.0|  1.0|       2.0|        0.0|      0.0|     1.0|\n",
      "|37.0|0.0|    140.0|      207.0|      0.0|130.0|    1.5|  0.0|       0.0|        0.0|      1.0|     0.0|\n",
      "|48.0|1.0|    120.0|      284.0|      0.0|120.0|    0.0|  1.0|       2.0|        0.0|      0.0|     1.0|\n",
      "|37.0|1.0|    130.0|      211.0|      0.0|142.0|    0.0|  1.0|       1.0|        0.0|      0.0|     1.0|\n",
      "|58.0|0.0|    136.0|      164.0|      0.0| 99.0|    2.0|  0.0|       2.0|        2.0|      1.0|     0.0|\n",
      "|39.0|0.0|    120.0|      204.0|      0.0|145.0|    0.0|  1.0|       2.0|        0.0|      0.0|     1.0|\n",
      "|49.0|0.0|    140.0|      234.0|      0.0|140.0|    1.0|  0.0|       0.0|        0.0|      1.0|     0.0|\n",
      "|42.0|1.0|    115.0|      211.0|      0.0|137.0|    0.0|  1.0|       1.0|        2.0|      0.0|     1.0|\n",
      "|54.0|1.0|    120.0|      273.0|      0.0|150.0|    1.5|  1.0|       2.0|        0.0|      0.0|     0.0|\n",
      "|38.0|0.0|    110.0|      196.0|      0.0|166.0|    0.0|  0.0|       0.0|        0.0|      0.0|     0.0|\n",
      "|43.0|1.0|    120.0|      201.0|      0.0|165.0|    0.0|  1.0|       2.0|        0.0|      0.0|     1.0|\n",
      "|60.0|0.0|    100.0|      248.0|      0.0|125.0|    1.0|  0.0|       0.0|        0.0|      0.0|     0.0|\n",
      "|36.0|0.0|    120.0|      267.0|      0.0|160.0|    3.0|  0.0|       2.0|        0.0|      0.0|     0.0|\n",
      "+----+---+---------+-----------+---------+-----+-------+-----+----------+-----------+---------+--------+\n",
      "only showing top 20 rows\n",
      "\n"
     ]
    }
   ],
   "source": [
    "# mapping our string columns to label indices columns\n",
    "from pyspark.ml.feature import StringIndexer\n",
    "dataset = StringIndexer(inputCol='HeartDisease',outputCol='label',handleInvalid='keep').fit(dataset).transform(dataset)\n",
    "dataset = StringIndexer(inputCol='Sex',outputCol='sex',handleInvalid='keep').fit(dataset).transform(dataset)\n",
    "dataset = StringIndexer(inputCol='ChestPainType',outputCol='Chest_Pain',handleInvalid='keep').fit(dataset).transform(dataset)\n",
    "dataset = StringIndexer(inputCol='RestingECG',outputCol='Resting_ECG',handleInvalid='keep').fit(dataset).transform(dataset)\n",
    "dataset = StringIndexer(inputCol='ExerciseAngina',outputCol='Ex_Angina',handleInvalid='keep').fit(dataset).transform(dataset)\n",
    "dataset = StringIndexer(inputCol='ST_Slope',outputCol='Slope_St',handleInvalid='keep').fit(dataset).transform(dataset)\n",
    "dataset.show()"
   ]
  },
  {
   "cell_type": "code",
   "execution_count": 33,
   "metadata": {},
   "outputs": [
    {
     "name": "stdout",
     "output_type": "stream",
     "text": [
      "+----+---+---------+-----------+---------+-----+-------+-----+----------+-----------+---------+--------+\n",
      "| Age|Sex|RestingBP|Cholesterol|FastingBS|MaxHR|Oldpeak|label|Chest_Pain|Resting_ECG|Ex_Angina|Slope_St|\n",
      "+----+---+---------+-----------+---------+-----+-------+-----+----------+-----------+---------+--------+\n",
      "|40.0|  M|    140.0|      289.0|      0.0|172.0|    0.0|  1.0|       2.0|        0.0|      0.0|     1.0|\n",
      "|49.0|  F|    160.0|      180.0|      0.0|156.0|    1.0|  0.0|       1.0|        0.0|      0.0|     0.0|\n",
      "|37.0|  M|    130.0|      283.0|      0.0| 98.0|    0.0|  1.0|       2.0|        2.0|      0.0|     1.0|\n",
      "|48.0|  F|    138.0|      214.0|      0.0|108.0|    1.5|  0.0|       0.0|        0.0|      1.0|     0.0|\n",
      "|54.0|  M|    150.0|      195.0|      0.0|122.0|    0.0|  1.0|       1.0|        0.0|      0.0|     1.0|\n",
      "|39.0|  M|    120.0|      339.0|      0.0|170.0|    0.0|  1.0|       1.0|        0.0|      0.0|     1.0|\n",
      "|45.0|  F|    130.0|      237.0|      0.0|170.0|    0.0|  1.0|       2.0|        0.0|      0.0|     1.0|\n",
      "|54.0|  M|    110.0|      208.0|      0.0|142.0|    0.0|  1.0|       2.0|        0.0|      0.0|     1.0|\n",
      "|37.0|  M|    140.0|      207.0|      0.0|130.0|    1.5|  0.0|       0.0|        0.0|      1.0|     0.0|\n",
      "|48.0|  F|    120.0|      284.0|      0.0|120.0|    0.0|  1.0|       2.0|        0.0|      0.0|     1.0|\n",
      "|37.0|  F|    130.0|      211.0|      0.0|142.0|    0.0|  1.0|       1.0|        0.0|      0.0|     1.0|\n",
      "|58.0|  M|    136.0|      164.0|      0.0| 99.0|    2.0|  0.0|       2.0|        2.0|      1.0|     0.0|\n",
      "|39.0|  M|    120.0|      204.0|      0.0|145.0|    0.0|  1.0|       2.0|        0.0|      0.0|     1.0|\n",
      "|49.0|  M|    140.0|      234.0|      0.0|140.0|    1.0|  0.0|       0.0|        0.0|      1.0|     0.0|\n",
      "|42.0|  F|    115.0|      211.0|      0.0|137.0|    0.0|  1.0|       1.0|        2.0|      0.0|     1.0|\n",
      "|54.0|  F|    120.0|      273.0|      0.0|150.0|    1.5|  1.0|       2.0|        0.0|      0.0|     0.0|\n",
      "|38.0|  M|    110.0|      196.0|      0.0|166.0|    0.0|  0.0|       0.0|        0.0|      0.0|     0.0|\n",
      "|43.0|  F|    120.0|      201.0|      0.0|165.0|    0.0|  1.0|       2.0|        0.0|      0.0|     1.0|\n",
      "|60.0|  M|    100.0|      248.0|      0.0|125.0|    1.0|  0.0|       0.0|        0.0|      0.0|     0.0|\n",
      "|36.0|  M|    120.0|      267.0|      0.0|160.0|    3.0|  0.0|       2.0|        0.0|      0.0|     0.0|\n",
      "+----+---+---------+-----------+---------+-----+-------+-----+----------+-----------+---------+--------+\n",
      "only showing top 20 rows\n",
      "\n"
     ]
    }
   ],
   "source": [
    "# removing the initial string columns\n",
    "dataset = dataset.drop('HeartDisease')\n",
    "dataset = dataset.drop('ChestPainType')\n",
    "dataset = dataset.drop('RestingECG')\n",
    "dataset = dataset.drop('ExerciseAngina')\n",
    "dataset = dataset.drop('ST_Slope')\n",
    "dataset.show()"
   ]
  },
  {
   "cell_type": "code",
   "execution_count": 36,
   "metadata": {},
   "outputs": [
    {
     "data": {
      "text/plain": [
       "[('Age', 'float'),\n",
       " ('sex', 'double'),\n",
       " ('RestingBP', 'float'),\n",
       " ('Cholesterol', 'float'),\n",
       " ('FastingBS', 'float'),\n",
       " ('MaxHR', 'float'),\n",
       " ('Oldpeak', 'float'),\n",
       " ('label', 'double'),\n",
       " ('Chest_Pain', 'double'),\n",
       " ('Resting_ECG', 'double'),\n",
       " ('Ex_Angina', 'double'),\n",
       " ('Slope_St', 'double')]"
      ]
     },
     "execution_count": 36,
     "metadata": {},
     "output_type": "execute_result"
    }
   ],
   "source": [
    "dataset.dtypes"
   ]
  },
  {
   "cell_type": "code",
   "execution_count": 37,
   "metadata": {},
   "outputs": [],
   "source": [
    "# Assembling all the dataframe's attributes into a one dimentional vector 'features' to facilitate the model's work \n",
    "required_features = ['Age','sex','RestingBP','Cholesterol','FastingBS','MaxHR','Oldpeak','Chest_Pain','Resting_ECG'\n",
    "                    ,'Ex_Angina','Slope_St']\n",
    "from pyspark.ml.feature import VectorAssembler\n",
    "assembler = VectorAssembler(inputCols=required_features, outputCol='features')\n",
    "transformed_data = assembler.transform(dataset)"
   ]
  },
  {
   "cell_type": "code",
   "execution_count": 38,
   "metadata": {},
   "outputs": [],
   "source": [
    "# random data splitting into two subsets, testing and training groups \n",
    "(training_data, test_data) = transformed_data.randomSplit([0.7,0.3])"
   ]
  },
  {
   "cell_type": "code",
   "execution_count": 40,
   "metadata": {},
   "outputs": [],
   "source": [
    "# Initializing the decision tree model based on these two subsets\n",
    "from pyspark.ml.classification import DecisionTreeClassifier\n",
    "from pyspark.ml.evaluation import MulticlassClassificationEvaluator\n",
    "decisionTree = DecisionTreeClassifier(labelCol='label',featuresCol='features')"
   ]
  },
  {
   "cell_type": "code",
   "execution_count": 41,
   "metadata": {},
   "outputs": [],
   "source": [
    "# fitting/training the build model on the training subset\n",
    "model=decisionTree.fit(training_data)"
   ]
  },
  {
   "cell_type": "code",
   "execution_count": 42,
   "metadata": {},
   "outputs": [],
   "source": [
    "# testing the model on the testing subset and storing the result (values of the predicted class 'HeartDisease') into a new variable\n",
    "predictions=model.transform(test_data)"
   ]
  },
  {
   "cell_type": "code",
   "execution_count": 43,
   "metadata": {},
   "outputs": [],
   "source": [
    "# Evaluation phase by computing the model's accuracy\n",
    "from pyspark.ml.evaluation import MulticlassClassificationEvaluator\n",
    "evaluator = MulticlassClassificationEvaluator(labelCol='label',predictionCol='prediction',metricName='accuracy')"
   ]
  },
  {
   "cell_type": "code",
   "execution_count": 44,
   "metadata": {},
   "outputs": [
    {
     "name": "stdout",
     "output_type": "stream",
     "text": [
      "Test Accuracy:  0.8424657534246576\n"
     ]
    }
   ],
   "source": [
    "accuracy = evaluator.evaluate(predictions)\n",
    "print('Test Accuracy: ', accuracy)"
   ]
  },
  {
   "cell_type": "code",
   "execution_count": null,
   "metadata": {},
   "outputs": [],
   "source": []
  }
 ],
 "metadata": {
  "kernelspec": {
   "display_name": "Python 3",
   "language": "python",
   "name": "python3"
  },
  "language_info": {
   "codemirror_mode": {
    "name": "ipython",
    "version": 3
   },
   "file_extension": ".py",
   "mimetype": "text/x-python",
   "name": "python",
   "nbconvert_exporter": "python",
   "pygments_lexer": "ipython3",
   "version": "3.8.5"
  }
 },
 "nbformat": 4,
 "nbformat_minor": 5
}
